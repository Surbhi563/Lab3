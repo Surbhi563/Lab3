{
  "nbformat": 4,
  "nbformat_minor": 0,
  "metadata": {
    "colab": {
      "provenance": []
    },
    "kernelspec": {
      "name": "python3",
      "display_name": "Python 3"
    },
    "language_info": {
      "name": "python"
    },
    "accelerator": "GPU",
    "gpuClass": "standard"
  },
  "cells": [
    {
      "cell_type": "code",
      "source": [
        "pip install pyvis"
      ],
      "metadata": {
        "id": "h98npHKf0SJu"
      },
      "execution_count": null,
      "outputs": []
    },
    {
      "cell_type": "code",
      "execution_count": null,
      "metadata": {
        "id": "tioIX4DktqZM"
      },
      "outputs": [],
      "source": [
        "from networkx.algorithms.bipartite.basic import color\n",
        "import networkx as nx\n",
        "import matplotlib.pyplot as plt\n",
        "import pandas as pd\n",
        "from pyvis.network import Network\n",
        "\n",
        "# Create an empty graph\n",
        "G = nx.Graph()\n",
        "data=pd.read_csv(\"data.csv\")\n",
        "origin=data[\"Origin\"]\n",
        "destination=data[\"Destination\"]\n",
        "l=[]\n",
        "for i,j in zip(origin,destination):\n",
        "  combination=(i,j)\n",
        "  l.append(combination)\n",
        "l=list(set(l))\n",
        "# Add nodes and edges to the graph\n",
        "for connection in l:\n",
        "    G.add_edge(connection[0], connection[1])\n",
        "\n",
        "net  = Network(notebook=True,directed=True )\n",
        "net.repulsion()\n",
        "\n",
        "net.from_nx(G)\n",
        "\n",
        "net.show(\"Connection.html\")\n"
      ]
    }
  ]
}