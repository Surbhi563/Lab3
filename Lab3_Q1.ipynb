{
  "nbformat": 4,
  "nbformat_minor": 0,
  "metadata": {
    "colab": {
      "provenance": []
    },
    "kernelspec": {
      "name": "python3",
      "display_name": "Python 3"
    },
    "language_info": {
      "name": "python"
    }
  },
  "cells": [
    {
      "cell_type": "code",
      "source": [
        "import numpy as np\n",
        "import pandas as pd\n",
        "import matplotlib.pyplot as plt\n",
        "import seaborn as sns\n"
      ],
      "metadata": {
        "id": "0fZ5EjMgvCzv"
      },
      "execution_count": 46,
      "outputs": []
    },
    {
      "cell_type": "code",
      "source": [
        "import folium\n",
        "\n",
        "Population = pd.read_csv(\"Population_data.csv\")\n",
        "state_capitals={}\n",
        "\n",
        "for i ,j,k,l in zip(Population['Capital'],Population['Population'],Population['Latitude'],Population['Longitude']):\n",
        "  state_capitals[i]=[j,k,l]\n",
        "\n",
        "def get_latitude_longitude(city_name):\n",
        "    latitude = state_capitals[city_name][1]\n",
        "    longitude = state_capitals[city_name][2]  \n",
        "    return (str(latitude), str(longitude))\n",
        "\n",
        "def get_population(city_name):\n",
        "  return state_capitals[city_name][0]\n",
        "  \n",
        "# Create a map centered at the geographical center of India\n",
        "map = folium.Map(location=[22.9734, 78.6569], zoom_start=5)\n",
        "\n",
        "# Define the state capitals and their populations\n",
        "state_capitals={}\n",
        "for i ,j,k,l in zip(Population['Capital'],Population['Population'],Population['Latitude'],Population['Longitude']):\n",
        "  state_capitals[i]=[j,k,l]\n",
        "\n",
        "# Add markers for each state capital and add a pop-up with population information\n",
        "for capital in Population['Capital']:\n",
        "    population=get_population(capital)\n",
        "    location = get_latitude_longitude(capital)\n",
        "    print(location)\n",
        "    folium.CircleMarker(\n",
        "        location=location,\n",
        "        radius=population / 100000,\n",
        "        popup=f'{capital}: {population}',\n",
        "        color='black',\n",
        "        fill_color='orange',\n",
        "       \n",
        "    ).add_to(map)\n",
        "\n",
        "\n",
        "map.save('india_map.html')"
      ],
      "metadata": {
        "id": "K5yZiCePzrGA",
        "colab": {
          "base_uri": "https://localhost:8080/"
        },
        "outputId": "2caa44ac-c03a-46c7-88a5-b4ef2886cd86"
      },
      "execution_count": 47,
      "outputs": [
        {
          "output_type": "stream",
          "name": "stdout",
          "text": [
            "('27.0938', '93.6106')\n",
            "('26.1445', '91.796')\n",
            "('25.5941', '85.1376')\n",
            "('21.2399', '81.6296')\n",
            "('15.4909', '73.8278')\n",
            "('23.2156', '72.6369')\n",
            "('17.385', '78.4867')\n",
            "('31.1048', '77.1734')\n",
            "('34.0836', '74.7973')\n",
            "('23.3441', '85.3096')\n",
            "('12.9716', '77.5946')\n",
            "('8.5069', '76.9569')\n",
            "('23.2599', '77.4126')\n",
            "('19.076', '72.8777')\n",
            "('24.817', '93.95')\n",
            "('25.57', '91.88')\n",
            "('23.7367', '92.7181')\n",
            "('25.67', '94.11')\n",
            "('20.2704', '85.8245')\n",
            "('26.9124', '75.7873')\n",
            "('27.3389', '88.6062')\n",
            "('13.0827', '80.2707')\n",
            "('23.8315', '91.2868')\n",
            "('26.8467', '80.9462')\n",
            "('30.3165', '78.0473')\n",
            "('22.5726', '88.3631')\n",
            "('26.9124', '75.7873')\n",
            "('26.1445', '91.7295')\n",
            "('30.7333', '76.7917')\n",
            "('12.9716', '77.5946')\n",
            "('17.385', '78.4867')\n",
            "('11.9416', '79.8083')\n"
          ]
        }
      ]
    }
  ]
}