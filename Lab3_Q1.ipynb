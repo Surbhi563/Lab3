{
  "nbformat": 4,
  "nbformat_minor": 0,
  "metadata": {
    "colab": {
      "provenance": []
    },
    "kernelspec": {
      "name": "python3",
      "display_name": "Python 3"
    },
    "language_info": {
      "name": "python"
    }
  },
  "cells": [
    {
      "cell_type": "code",
      "source": [
        "import numpy as np\n",
        "import pandas as pd\n",
        "import matplotlib.pyplot as plt\n",
        "import seaborn as sns\n"
      ],
      "metadata": {
        "id": "0fZ5EjMgvCzv"
      },
      "execution_count": null,
      "outputs": []
    },
    {
      "cell_type": "code",
      "source": [
        "import folium\n",
        "\n",
        "# Create the map object\n",
        "india_map = folium.Map(location=[22.9734, 78.6569], zoom_start=5)\n",
        "\n",
        "# Add GeoJSON data for Indian states\n",
        "folium.GeoJson(\n",
        "    'https://raw.githubusercontent.com/geohacker/india/master/state/india_telengana.geojson',\n",
        "    name='geojson'\n",
        ").add_to(india_map)\n",
        "\n",
        "# Add a layer control to toggle between different layers\n",
        "folium.LayerControl().add_to(india_map)\n",
        "\n",
        "# Add markers for each state capital and add a pop-up with population information\n",
        "for capital in Population['Capital']:\n",
        "    population=get_population(capital)\n",
        "    location = get_latitude_longitude(capital)\n",
        "    folium.CircleMarker(\n",
        "        location=location,\n",
        "        radius=population / 100000,\n",
        "        popup=f'{capital}: {population}',\n",
        "        color='black',\n",
        "        fill_color='orange',\n",
        "        fill_opacity=0.7\n",
        "    ).add_to(india_map)\n",
        "\n",
        "# Add layer control to switch between choropleth and markers\n",
        "folium.LayerControl().add_to(india_map)\n",
        "\n",
        "# Save the map as an HTML file\n",
        "india_map.save('india_map1.html')\n"
      ],
      "metadata": {
        "id": "zWY94S-IDpl3"
      },
      "execution_count": 10,
      "outputs": []
    }
  ]
}